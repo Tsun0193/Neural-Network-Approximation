{
 "cells": [
  {
   "cell_type": "markdown",
   "metadata": {},
   "source": [
    "### Change Directory\n",
    "This cell changes the working directory to the parent directory, preparing for imports from the local file structure."
   ]
  },
  {
   "cell_type": "code",
   "execution_count": 1,
   "metadata": {
    "vscode": {
     "languageId": "shellscript"
    }
   },
   "outputs": [
    {
     "name": "stdout",
     "output_type": "stream",
     "text": [
      "/home/tsunn/Workspace/free/Neural-Network-Approximation\n"
     ]
    }
   ],
   "source": [
    "cd ../.."
   ]
  },
  {
   "cell_type": "markdown",
   "metadata": {},
   "source": [
    "### Imports\n",
    "The necessary libraries are imported."
   ]
  },
  {
   "cell_type": "code",
   "execution_count": 2,
   "metadata": {},
   "outputs": [
    {
     "name": "stderr",
     "output_type": "stream",
     "text": [
      "/home/tsunn/anaconda3/envs/nna/lib/python3.11/site-packages/tqdm/auto.py:21: TqdmWarning: IProgress not found. Please update jupyter and ipywidgets. See https://ipywidgets.readthedocs.io/en/stable/user_install.html\n",
      "  from .autonotebook import tqdm as notebook_tqdm\n"
     ]
    }
   ],
   "source": [
    "from utils.algo import optimal_approx\n",
    "from utils.maths import *\n",
    "import numpy as np\n",
    "import pandas as pd"
   ]
  },
  {
   "cell_type": "markdown",
   "metadata": {},
   "source": [
    "### Function Definitions\n",
    "The next few cells will define the functions used in the experiment"
   ]
  },
  {
   "cell_type": "code",
   "execution_count": 3,
   "metadata": {},
   "outputs": [],
   "source": [
    "def square(x):\n",
    "    return x**2\n",
    "\n",
    "def triplet(x):\n",
    "    return x**3\n",
    "\n",
    "def exp(x):\n",
    "    return np.exp(x)"
   ]
  },
  {
   "cell_type": "code",
   "execution_count": 4,
   "metadata": {},
   "outputs": [],
   "source": [
    "n = [2, 3, 5, 10]\n",
    "step = 2e-5"
   ]
  },
  {
   "cell_type": "markdown",
   "metadata": {},
   "source": [
    "Below is the function to calculate the mean error."
   ]
  },
  {
   "cell_type": "code",
   "execution_count": 5,
   "metadata": {},
   "outputs": [],
   "source": [
    "def mean_err(errs):\n",
    "    return sum(errs) / len(errs)"
   ]
  },
  {
   "cell_type": "markdown",
   "metadata": {},
   "source": [
    "Also, the boundings of the error are defined along with the maximal gap between errors."
   ]
  },
  {
   "cell_type": "code",
   "execution_count": 6,
   "metadata": {},
   "outputs": [],
   "source": [
    "def bounds(n, f, a, b):\n",
    "    pass"
   ]
  },
  {
   "cell_type": "markdown",
   "metadata": {},
   "source": [
    "### Start approximating variables\n",
    "This step implements the algorithm to approximate the variables in the system of equations, as described in the paper."
   ]
  },
  {
   "cell_type": "code",
   "execution_count": 7,
   "metadata": {},
   "outputs": [],
   "source": [
    "errs = []"
   ]
  },
  {
   "cell_type": "code",
   "execution_count": 8,
   "metadata": {},
   "outputs": [
    {
     "name": "stdout",
     "output_type": "stream",
     "text": [
      "n = 2\n",
      "f(x) = exp(x)\n"
     ]
    },
    {
     "name": "stderr",
     "output_type": "stream",
     "text": [
      "Optimal Approximation: 100%|██████████| 1/1 [00:01<00:00,  1.15s/it]\n",
      "Optimal Approximation: 100%|██████████| 1/1 [00:00<00:00, 2376.38it/s]\n"
     ]
    },
    {
     "name": "stdout",
     "output_type": "stream",
     "text": [
      "--------------------------------------------------\n",
      "n = 3\n",
      "f(x) = exp(x)\n"
     ]
    },
    {
     "name": "stderr",
     "output_type": "stream",
     "text": [
      "Optimal Approximation: 100%|██████████| 2/2 [00:01<00:00,  1.68it/s]\n",
      "Optimal Approximation: 100%|██████████| 2/2 [00:00<00:00,  4.74it/s]\n",
      "Optimal Approximation: 100%|██████████| 2/2 [00:00<00:00, 11.21it/s]\n",
      "Optimal Approximation: 100%|██████████| 2/2 [00:00<00:00, 18.81it/s]\n",
      "Optimal Approximation: 100%|██████████| 2/2 [00:00<00:00, 47.70it/s]\n",
      "Optimal Approximation: 100%|██████████| 2/2 [00:00<00:00, 83.20it/s]\n",
      "Optimal Approximation: 100%|██████████| 2/2 [00:00<00:00, 193.89it/s]\n",
      "Optimal Approximation: 100%|██████████| 2/2 [00:00<00:00, 277.43it/s]\n",
      "Optimal Approximation: 100%|██████████| 2/2 [00:00<00:00, 677.27it/s]\n",
      "Optimal Approximation: 100%|██████████| 2/2 [00:00<00:00, 928.15it/s]\n",
      "Optimal Approximation: 100%|██████████| 2/2 [00:00<00:00, 1449.56it/s]\n",
      "Optimal Approximation: 100%|██████████| 2/2 [00:00<00:00, 1758.25it/s]\n",
      "Optimal Approximation: 100%|██████████| 2/2 [00:00<00:00, 1891.88it/s]\n",
      "Optimal Approximation: 100%|██████████| 2/2 [00:00<00:00, 1784.05it/s]\n",
      "Optimal Approximation: 100%|██████████| 2/2 [00:00<00:00, 1654.56it/s]\n"
     ]
    },
    {
     "name": "stdout",
     "output_type": "stream",
     "text": [
      "--------------------------------------------------\n",
      "n = 5\n",
      "f(x) = exp(x)\n"
     ]
    },
    {
     "name": "stderr",
     "output_type": "stream",
     "text": [
      "Optimal Approximation: 100%|██████████| 4/4 [00:00<00:00,  4.04it/s]\n",
      "Optimal Approximation: 100%|██████████| 4/4 [00:00<00:00,  6.55it/s]\n",
      "Optimal Approximation: 100%|██████████| 4/4 [00:00<00:00,  9.24it/s]\n",
      "Optimal Approximation: 100%|██████████| 4/4 [00:00<00:00, 15.22it/s]\n",
      "Optimal Approximation: 100%|██████████| 4/4 [00:00<00:00, 19.50it/s]\n",
      "Optimal Approximation: 100%|██████████| 4/4 [00:00<00:00, 22.96it/s]\n",
      "Optimal Approximation: 100%|██████████| 4/4 [00:00<00:00, 29.05it/s]\n",
      "Optimal Approximation: 100%|██████████| 4/4 [00:00<00:00, 31.62it/s]\n",
      "Optimal Approximation: 100%|██████████| 4/4 [00:00<00:00, 43.82it/s]\n",
      "Optimal Approximation: 100%|██████████| 4/4 [00:00<00:00, 52.07it/s]\n",
      "Optimal Approximation: 100%|██████████| 4/4 [00:00<00:00, 64.19it/s]\n",
      "Optimal Approximation: 100%|██████████| 4/4 [00:00<00:00, 76.23it/s]\n",
      "Optimal Approximation: 100%|██████████| 4/4 [00:00<00:00, 100.54it/s]\n",
      "Optimal Approximation: 100%|██████████| 4/4 [00:00<00:00, 116.20it/s]\n",
      "Optimal Approximation: 100%|██████████| 4/4 [00:00<00:00, 151.12it/s]\n",
      "Optimal Approximation: 100%|██████████| 4/4 [00:00<00:00, 181.74it/s]\n",
      "Optimal Approximation: 100%|██████████| 4/4 [00:00<00:00, 236.74it/s]\n",
      "Optimal Approximation: 100%|██████████| 4/4 [00:00<00:00, 273.60it/s]\n",
      "Optimal Approximation: 100%|██████████| 4/4 [00:00<00:00, 344.15it/s]\n",
      "Optimal Approximation: 100%|██████████| 4/4 [00:00<00:00, 375.77it/s]\n",
      "Optimal Approximation: 100%|██████████| 4/4 [00:00<00:00, 482.27it/s]\n",
      "Optimal Approximation: 100%|██████████| 4/4 [00:00<00:00, 509.06it/s]\n",
      "Optimal Approximation: 100%|██████████| 4/4 [00:00<00:00, 696.38it/s]\n",
      "Optimal Approximation: 100%|██████████| 4/4 [00:00<00:00, 749.59it/s]\n",
      "Optimal Approximation: 100%|██████████| 4/4 [00:00<00:00, 895.74it/s]\n",
      "Optimal Approximation: 100%|██████████| 4/4 [00:00<00:00, 979.81it/s]\n",
      "Optimal Approximation: 100%|██████████| 4/4 [00:00<00:00, 1184.16it/s]\n",
      "Optimal Approximation: 100%|██████████| 4/4 [00:00<00:00, 1159.37it/s]\n",
      "Optimal Approximation: 100%|██████████| 4/4 [00:00<00:00, 1415.80it/s]\n",
      "Optimal Approximation: 100%|██████████| 4/4 [00:00<00:00, 1420.96it/s]\n"
     ]
    },
    {
     "name": "stdout",
     "output_type": "stream",
     "text": [
      "--------------------------------------------------\n",
      "n = 10\n",
      "f(x) = exp(x)\n"
     ]
    },
    {
     "name": "stderr",
     "output_type": "stream",
     "text": [
      "Optimal Approximation: 100%|██████████| 9/9 [00:00<00:00, 14.44it/s]\n",
      "Optimal Approximation: 100%|██████████| 9/9 [00:00<00:00, 17.11it/s]\n",
      "Optimal Approximation: 100%|██████████| 9/9 [00:00<00:00, 19.37it/s]\n",
      "Optimal Approximation: 100%|██████████| 9/9 [00:00<00:00, 23.02it/s]\n",
      "Optimal Approximation: 100%|██████████| 9/9 [00:00<00:00, 26.24it/s]\n",
      "Optimal Approximation: 100%|██████████| 9/9 [00:00<00:00, 32.57it/s]\n",
      "Optimal Approximation: 100%|██████████| 9/9 [00:00<00:00, 36.52it/s]\n",
      "Optimal Approximation: 100%|██████████| 9/9 [00:00<00:00, 44.15it/s]\n",
      "Optimal Approximation: 100%|██████████| 9/9 [00:00<00:00, 46.35it/s]\n",
      "Optimal Approximation: 100%|██████████| 9/9 [00:00<00:00, 54.06it/s]\n",
      "Optimal Approximation: 100%|██████████| 9/9 [00:00<00:00, 53.39it/s]\n",
      "Optimal Approximation: 100%|██████████| 9/9 [00:00<00:00, 58.98it/s]\n",
      "Optimal Approximation: 100%|██████████| 9/9 [00:00<00:00, 59.46it/s]\n",
      "Optimal Approximation: 100%|██████████| 9/9 [00:00<00:00, 63.80it/s]\n",
      "Optimal Approximation: 100%|██████████| 9/9 [00:00<00:00, 64.36it/s]\n",
      "Optimal Approximation: 100%|██████████| 9/9 [00:00<00:00, 71.02it/s]"
     ]
    },
    {
     "name": "stdout",
     "output_type": "stream",
     "text": [
      "--------------------------------------------------\n"
     ]
    },
    {
     "name": "stderr",
     "output_type": "stream",
     "text": [
      "\n"
     ]
    }
   ],
   "source": [
    "for i in n:\n",
    "    print(f\"n = {i}\")\n",
    "    print(f\"f(x) = exp(x)\")\n",
    "    a, b = 0, 1\n",
    "    alpha = (b-a)**2 / (16 * i**2)\n",
    "    res = optimal_approx(i, exp, a, b, step)\n",
    "    errs.append({\n",
    "        \"function\": \"exp(x)\",\n",
    "        \"n\": i,\n",
    "        \"mean_err\": mean_err(res[1]),\n",
    "        \"upper_bound\": max_fx(get_derivative(get_derivative(exp)), (a, b)) * alpha,\n",
    "        \"lower_bound\": min_fx(get_derivative(get_derivative(exp)), (a, b)) * alpha,\n",
    "        \"max_gap\": max(res[1]) - min(res[1]),\n",
    "        \"rounds\": res[2]\n",
    "    })\n",
    "    print('-'*50)"
   ]
  },
  {
   "cell_type": "code",
   "execution_count": 9,
   "metadata": {},
   "outputs": [
    {
     "name": "stdout",
     "output_type": "stream",
     "text": [
      "n = 2\n",
      "f(x) = x^2\n"
     ]
    },
    {
     "name": "stderr",
     "output_type": "stream",
     "text": [
      "Optimal Approximation: 100%|██████████| 1/1 [00:00<00:00, 36792.14it/s]\n"
     ]
    },
    {
     "name": "stdout",
     "output_type": "stream",
     "text": [
      "--------------------------------------------------\n",
      "n = 3\n",
      "f(x) = x^2\n"
     ]
    },
    {
     "name": "stderr",
     "output_type": "stream",
     "text": [
      "Optimal Approximation: 100%|██████████| 2/2 [00:00<00:00, 12246.14it/s]\n"
     ]
    },
    {
     "name": "stdout",
     "output_type": "stream",
     "text": [
      "--------------------------------------------------\n",
      "n = 5\n",
      "f(x) = x^2\n"
     ]
    },
    {
     "name": "stderr",
     "output_type": "stream",
     "text": [
      "Optimal Approximation: 100%|██████████| 4/4 [00:00<00:00, 8872.14it/s]\n"
     ]
    },
    {
     "name": "stdout",
     "output_type": "stream",
     "text": [
      "--------------------------------------------------\n",
      "n = 10\n",
      "f(x) = x^2\n"
     ]
    },
    {
     "name": "stderr",
     "output_type": "stream",
     "text": [
      "Optimal Approximation: 100%|██████████| 9/9 [00:00<00:00, 14255.56it/s]"
     ]
    },
    {
     "name": "stdout",
     "output_type": "stream",
     "text": [
      "--------------------------------------------------\n"
     ]
    },
    {
     "name": "stderr",
     "output_type": "stream",
     "text": [
      "\n"
     ]
    }
   ],
   "source": [
    "for i in n:\n",
    "    print(f\"n = {i}\")\n",
    "    print(f\"f(x) = x^2\")\n",
    "    a, b = -1, 1\n",
    "    alpha = (b-a)**2 / (16 * i**2)\n",
    "    res = optimal_approx(i, square, a, b, step)\n",
    "    errs.append({\n",
    "        \"function\": \"x^2\",\n",
    "        \"n\": i,\n",
    "        \"mean_err\": mean_err(res[1]),\n",
    "        \"upper_bound\": max_fx(get_derivative(get_derivative(square)), (a, b)) * alpha,\n",
    "        \"lower_bound\": min_fx(get_derivative(get_derivative(square)), (a, b)) * alpha,\n",
    "        \"max_gap\": max(res[1]) - min(res[1]),\n",
    "        \"rounds\": res[2]\n",
    "    })\n",
    "    print('-'*50)"
   ]
  },
  {
   "cell_type": "code",
   "execution_count": 10,
   "metadata": {},
   "outputs": [
    {
     "name": "stdout",
     "output_type": "stream",
     "text": [
      "n = 2\n",
      "f(x) = x^3\n"
     ]
    },
    {
     "name": "stderr",
     "output_type": "stream",
     "text": [
      "Optimal Approximation: 100%|██████████| 1/1 [00:01<00:00,  1.51s/it]\n",
      "Optimal Approximation: 100%|██████████| 1/1 [00:00<00:00, 2777.68it/s]\n",
      "Optimal Approximation: 100%|██████████| 1/1 [00:00<00:00, 3374.34it/s]\n"
     ]
    },
    {
     "name": "stdout",
     "output_type": "stream",
     "text": [
      "--------------------------------------------------\n",
      "n = 3\n",
      "f(x) = x^3\n"
     ]
    },
    {
     "name": "stderr",
     "output_type": "stream",
     "text": [
      "Optimal Approximation: 100%|██████████| 2/2 [00:01<00:00,  1.09it/s]\n",
      "Optimal Approximation: 100%|██████████| 2/2 [00:00<00:00,  3.61it/s]\n",
      "Optimal Approximation: 100%|██████████| 2/2 [00:00<00:00,  9.89it/s]\n",
      "Optimal Approximation: 100%|██████████| 2/2 [00:00<00:00, 15.14it/s]\n",
      "Optimal Approximation: 100%|██████████| 2/2 [00:00<00:00, 41.22it/s]\n",
      "Optimal Approximation: 100%|██████████| 2/2 [00:00<00:00, 63.12it/s]\n",
      "Optimal Approximation: 100%|██████████| 2/2 [00:00<00:00, 158.10it/s]\n",
      "Optimal Approximation: 100%|██████████| 2/2 [00:00<00:00, 242.45it/s]\n",
      "Optimal Approximation: 100%|██████████| 2/2 [00:00<00:00, 551.30it/s]\n",
      "Optimal Approximation: 100%|██████████| 2/2 [00:00<00:00, 750.99it/s]\n",
      "Optimal Approximation: 100%|██████████| 2/2 [00:00<00:00, 1464.75it/s]\n",
      "Optimal Approximation: 100%|██████████| 2/2 [00:00<00:00, 1794.35it/s]\n",
      "Optimal Approximation: 100%|██████████| 2/2 [00:00<00:00, 1869.54it/s]\n",
      "Optimal Approximation: 100%|██████████| 2/2 [00:00<00:00, 1867.87it/s]\n",
      "Optimal Approximation: 100%|██████████| 2/2 [00:00<00:00, 2475.98it/s]\n",
      "Optimal Approximation: 100%|██████████| 2/2 [00:00<00:00, 2404.99it/s]\n"
     ]
    },
    {
     "name": "stdout",
     "output_type": "stream",
     "text": [
      "--------------------------------------------------\n",
      "n = 5\n",
      "f(x) = x^3\n"
     ]
    },
    {
     "name": "stderr",
     "output_type": "stream",
     "text": [
      "Optimal Approximation: 100%|██████████| 4/4 [00:01<00:00,  2.16it/s]\n",
      "Optimal Approximation: 100%|██████████| 4/4 [00:01<00:00,  3.88it/s]\n",
      "Optimal Approximation: 100%|██████████| 4/4 [00:00<00:00,  6.02it/s]\n",
      "Optimal Approximation: 100%|██████████| 4/4 [00:00<00:00, 10.45it/s]\n",
      "Optimal Approximation: 100%|██████████| 4/4 [00:00<00:00, 14.47it/s]\n",
      "Optimal Approximation: 100%|██████████| 4/4 [00:00<00:00, 15.88it/s]\n",
      "Optimal Approximation: 100%|██████████| 4/4 [00:00<00:00, 22.03it/s]\n",
      "Optimal Approximation: 100%|██████████| 4/4 [00:00<00:00, 24.03it/s]\n",
      "Optimal Approximation: 100%|██████████| 4/4 [00:00<00:00, 34.94it/s]\n",
      "Optimal Approximation: 100%|██████████| 4/4 [00:00<00:00, 38.40it/s]\n",
      "Optimal Approximation: 100%|██████████| 4/4 [00:00<00:00, 53.91it/s]\n",
      "Optimal Approximation: 100%|██████████| 4/4 [00:00<00:00, 60.57it/s]\n",
      "Optimal Approximation: 100%|██████████| 4/4 [00:00<00:00, 84.09it/s]\n",
      "Optimal Approximation: 100%|██████████| 4/4 [00:00<00:00, 91.73it/s]\n",
      "Optimal Approximation: 100%|██████████| 4/4 [00:00<00:00, 127.14it/s]\n",
      "Optimal Approximation: 100%|██████████| 4/4 [00:00<00:00, 140.10it/s]\n",
      "Optimal Approximation: 100%|██████████| 4/4 [00:00<00:00, 191.08it/s]\n",
      "Optimal Approximation: 100%|██████████| 4/4 [00:00<00:00, 201.74it/s]\n",
      "Optimal Approximation: 100%|██████████| 4/4 [00:00<00:00, 283.21it/s]\n",
      "Optimal Approximation: 100%|██████████| 4/4 [00:00<00:00, 301.03it/s]\n",
      "Optimal Approximation: 100%|██████████| 4/4 [00:00<00:00, 412.54it/s]\n",
      "Optimal Approximation: 100%|██████████| 4/4 [00:00<00:00, 444.15it/s]\n",
      "Optimal Approximation: 100%|██████████| 4/4 [00:00<00:00, 622.05it/s]\n",
      "Optimal Approximation: 100%|██████████| 4/4 [00:00<00:00, 680.81it/s]\n",
      "Optimal Approximation: 100%|██████████| 4/4 [00:00<00:00, 799.11it/s]\n",
      "Optimal Approximation: 100%|██████████| 4/4 [00:00<00:00, 833.11it/s]\n",
      "Optimal Approximation: 100%|██████████| 4/4 [00:00<00:00, 1022.19it/s]\n",
      "Optimal Approximation: 100%|██████████| 4/4 [00:00<00:00, 1092.76it/s]\n",
      "Optimal Approximation: 100%|██████████| 4/4 [00:00<00:00, 1391.49it/s]\n",
      "Optimal Approximation: 100%|██████████| 4/4 [00:00<00:00, 1504.14it/s]\n",
      "Optimal Approximation: 100%|██████████| 4/4 [00:00<00:00, 1895.09it/s]\n",
      "Optimal Approximation: 100%|██████████| 4/4 [00:00<00:00, 2149.82it/s]\n"
     ]
    },
    {
     "name": "stdout",
     "output_type": "stream",
     "text": [
      "--------------------------------------------------\n",
      "n = 10\n",
      "f(x) = x^3\n"
     ]
    },
    {
     "name": "stderr",
     "output_type": "stream",
     "text": [
      "Optimal Approximation: 100%|██████████| 9/9 [00:01<00:00,  6.49it/s]\n",
      "Optimal Approximation: 100%|██████████| 9/9 [00:01<00:00,  8.67it/s]\n",
      "Optimal Approximation: 100%|██████████| 9/9 [00:00<00:00, 10.54it/s]\n",
      "Optimal Approximation: 100%|██████████| 9/9 [00:00<00:00, 12.71it/s]\n",
      "Optimal Approximation: 100%|██████████| 9/9 [00:00<00:00, 14.90it/s]\n",
      "Optimal Approximation: 100%|██████████| 9/9 [00:00<00:00, 18.47it/s]\n",
      "Optimal Approximation: 100%|██████████| 9/9 [00:00<00:00, 22.56it/s]\n",
      "Optimal Approximation: 100%|██████████| 9/9 [00:00<00:00, 27.56it/s]\n",
      "Optimal Approximation: 100%|██████████| 9/9 [00:00<00:00, 31.40it/s]\n",
      "Optimal Approximation: 100%|██████████| 9/9 [00:00<00:00, 34.64it/s]"
     ]
    },
    {
     "name": "stdout",
     "output_type": "stream",
     "text": [
      "--------------------------------------------------\n"
     ]
    },
    {
     "name": "stderr",
     "output_type": "stream",
     "text": [
      "\n"
     ]
    }
   ],
   "source": [
    "for i in n:\n",
    "    print(f\"n = {i}\")\n",
    "    print(f\"f(x) = x^3\")\n",
    "    a, b = 0, 1\n",
    "    alpha = (b-a)**2 / (16 * i**2)\n",
    "    res = optimal_approx(i, triplet, a, b, step)\n",
    "    errs.append({\n",
    "        \"function\": \"x^3\",\n",
    "        \"n\": i,\n",
    "        \"mean_err\": mean_err(res[1]),\n",
    "        \"upper_bound\": max_fx(get_derivative(get_derivative(triplet)), (a, b)) * alpha,\n",
    "        \"lower_bound\": min_fx(get_derivative(get_derivative(triplet)), (a, b)) * alpha,\n",
    "        \"max_gap\": max(res[1]) - min(res[1]),\n",
    "        \"rounds\": res[2]\n",
    "    })\n",
    "    print('-'*50)"
   ]
  },
  {
   "cell_type": "markdown",
   "metadata": {},
   "source": [
    "### Results\n",
    "The results are displayed in the form of a table, showing values that are really close to published values in the paper."
   ]
  },
  {
   "cell_type": "code",
   "execution_count": 11,
   "metadata": {},
   "outputs": [
    {
     "data": {
      "text/html": [
       "<div>\n",
       "<style scoped>\n",
       "    .dataframe tbody tr th:only-of-type {\n",
       "        vertical-align: middle;\n",
       "    }\n",
       "\n",
       "    .dataframe tbody tr th {\n",
       "        vertical-align: top;\n",
       "    }\n",
       "\n",
       "    .dataframe thead th {\n",
       "        text-align: right;\n",
       "    }\n",
       "</style>\n",
       "<table border=\"1\" class=\"dataframe\">\n",
       "  <thead>\n",
       "    <tr style=\"text-align: right;\">\n",
       "      <th></th>\n",
       "      <th>function</th>\n",
       "      <th>n</th>\n",
       "      <th>mean_err</th>\n",
       "      <th>upper_bound</th>\n",
       "      <th>lower_bound</th>\n",
       "      <th>max_gap</th>\n",
       "      <th>rounds</th>\n",
       "    </tr>\n",
       "  </thead>\n",
       "  <tbody>\n",
       "    <tr>\n",
       "      <th>0</th>\n",
       "      <td>exp(x)</td>\n",
       "      <td>2</td>\n",
       "      <td>0.026349</td>\n",
       "      <td>0.042445</td>\n",
       "      <td>1.562292e-02</td>\n",
       "      <td>0.000003</td>\n",
       "      <td>3089</td>\n",
       "    </tr>\n",
       "    <tr>\n",
       "      <th>1</th>\n",
       "      <td>exp(x)</td>\n",
       "      <td>3</td>\n",
       "      <td>0.011699</td>\n",
       "      <td>0.018865</td>\n",
       "      <td>6.943520e-03</td>\n",
       "      <td>0.000004</td>\n",
       "      <td>5544</td>\n",
       "    </tr>\n",
       "    <tr>\n",
       "      <th>2</th>\n",
       "      <td>exp(x)</td>\n",
       "      <td>5</td>\n",
       "      <td>0.004210</td>\n",
       "      <td>0.006791</td>\n",
       "      <td>2.499667e-03</td>\n",
       "      <td>0.000006</td>\n",
       "      <td>10054</td>\n",
       "    </tr>\n",
       "    <tr>\n",
       "      <th>3</th>\n",
       "      <td>exp(x)</td>\n",
       "      <td>10</td>\n",
       "      <td>0.001055</td>\n",
       "      <td>0.001698</td>\n",
       "      <td>6.249168e-04</td>\n",
       "      <td>0.000319</td>\n",
       "      <td>13138</td>\n",
       "    </tr>\n",
       "    <tr>\n",
       "      <th>4</th>\n",
       "      <td>x^2</td>\n",
       "      <td>2</td>\n",
       "      <td>0.125000</td>\n",
       "      <td>0.125011</td>\n",
       "      <td>1.249990e-01</td>\n",
       "      <td>0.000000</td>\n",
       "      <td>0</td>\n",
       "    </tr>\n",
       "    <tr>\n",
       "      <th>5</th>\n",
       "      <td>x^2</td>\n",
       "      <td>3</td>\n",
       "      <td>0.055556</td>\n",
       "      <td>0.055560</td>\n",
       "      <td>5.555510e-02</td>\n",
       "      <td>0.000007</td>\n",
       "      <td>1</td>\n",
       "    </tr>\n",
       "    <tr>\n",
       "      <th>6</th>\n",
       "      <td>x^2</td>\n",
       "      <td>5</td>\n",
       "      <td>0.020000</td>\n",
       "      <td>0.020002</td>\n",
       "      <td>1.999984e-02</td>\n",
       "      <td>0.000008</td>\n",
       "      <td>4</td>\n",
       "    </tr>\n",
       "    <tr>\n",
       "      <th>7</th>\n",
       "      <td>x^2</td>\n",
       "      <td>10</td>\n",
       "      <td>0.005000</td>\n",
       "      <td>0.005000</td>\n",
       "      <td>4.999959e-03</td>\n",
       "      <td>0.000003</td>\n",
       "      <td>6</td>\n",
       "    </tr>\n",
       "    <tr>\n",
       "      <th>8</th>\n",
       "      <td>x^3</td>\n",
       "      <td>2</td>\n",
       "      <td>0.044863</td>\n",
       "      <td>0.093750</td>\n",
       "      <td>6.525807e-07</td>\n",
       "      <td>0.000006</td>\n",
       "      <td>5775</td>\n",
       "    </tr>\n",
       "    <tr>\n",
       "      <th>9</th>\n",
       "      <td>x^3</td>\n",
       "      <td>3</td>\n",
       "      <td>0.019462</td>\n",
       "      <td>0.041667</td>\n",
       "      <td>2.900359e-07</td>\n",
       "      <td>0.000008</td>\n",
       "      <td>11183</td>\n",
       "    </tr>\n",
       "    <tr>\n",
       "      <th>10</th>\n",
       "      <td>x^3</td>\n",
       "      <td>5</td>\n",
       "      <td>0.006870</td>\n",
       "      <td>0.015000</td>\n",
       "      <td>1.044129e-07</td>\n",
       "      <td>0.000011</td>\n",
       "      <td>21654</td>\n",
       "    </tr>\n",
       "    <tr>\n",
       "      <th>11</th>\n",
       "      <td>x^3</td>\n",
       "      <td>10</td>\n",
       "      <td>0.001730</td>\n",
       "      <td>0.003750</td>\n",
       "      <td>2.610323e-08</td>\n",
       "      <td>0.001543</td>\n",
       "      <td>26431</td>\n",
       "    </tr>\n",
       "  </tbody>\n",
       "</table>\n",
       "</div>"
      ],
      "text/plain": [
       "   function   n  mean_err  upper_bound   lower_bound   max_gap  rounds\n",
       "0    exp(x)   2  0.026349     0.042445  1.562292e-02  0.000003    3089\n",
       "1    exp(x)   3  0.011699     0.018865  6.943520e-03  0.000004    5544\n",
       "2    exp(x)   5  0.004210     0.006791  2.499667e-03  0.000006   10054\n",
       "3    exp(x)  10  0.001055     0.001698  6.249168e-04  0.000319   13138\n",
       "4       x^2   2  0.125000     0.125011  1.249990e-01  0.000000       0\n",
       "5       x^2   3  0.055556     0.055560  5.555510e-02  0.000007       1\n",
       "6       x^2   5  0.020000     0.020002  1.999984e-02  0.000008       4\n",
       "7       x^2  10  0.005000     0.005000  4.999959e-03  0.000003       6\n",
       "8       x^3   2  0.044863     0.093750  6.525807e-07  0.000006    5775\n",
       "9       x^3   3  0.019462     0.041667  2.900359e-07  0.000008   11183\n",
       "10      x^3   5  0.006870     0.015000  1.044129e-07  0.000011   21654\n",
       "11      x^3  10  0.001730     0.003750  2.610323e-08  0.001543   26431"
      ]
     },
     "execution_count": 11,
     "metadata": {},
     "output_type": "execute_result"
    }
   ],
   "source": [
    "df = pd.DataFrame(errs)\n",
    "df"
   ]
  },
  {
   "cell_type": "code",
   "execution_count": null,
   "metadata": {},
   "outputs": [],
   "source": []
  }
 ],
 "metadata": {
  "kernelspec": {
   "display_name": "nna",
   "language": "python",
   "name": "python3"
  },
  "language_info": {
   "codemirror_mode": {
    "name": "ipython",
    "version": 3
   },
   "file_extension": ".py",
   "mimetype": "text/x-python",
   "name": "python",
   "nbconvert_exporter": "python",
   "pygments_lexer": "ipython3",
   "version": "3.11.11"
  }
 },
 "nbformat": 4,
 "nbformat_minor": 2
}
