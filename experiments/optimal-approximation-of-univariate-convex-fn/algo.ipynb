{
 "cells": [
  {
   "cell_type": "markdown",
   "metadata": {},
   "source": [
    "### Change Directory\n",
    "This cell changes the working directory to the parent directory, preparing for imports from the local file structure."
   ]
  },
  {
   "cell_type": "code",
   "execution_count": 1,
   "metadata": {
    "vscode": {
     "languageId": "shellscript"
    }
   },
   "outputs": [
    {
     "name": "stdout",
     "output_type": "stream",
     "text": [
      "/home/tsunn/Workspace/free/Neural-Network-Approximation\n"
     ]
    }
   ],
   "source": [
    "cd ../.."
   ]
  },
  {
   "cell_type": "markdown",
   "metadata": {},
   "source": [
    "### Imports\n",
    "The necessary libraries are imported."
   ]
  },
  {
   "cell_type": "code",
   "execution_count": 2,
   "metadata": {},
   "outputs": [
    {
     "name": "stderr",
     "output_type": "stream",
     "text": [
      "/home/tsunn/anaconda3/envs/nna/lib/python3.11/site-packages/tqdm/auto.py:21: TqdmWarning: IProgress not found. Please update jupyter and ipywidgets. See https://ipywidgets.readthedocs.io/en/stable/user_install.html\n",
      "  from .autonotebook import tqdm as notebook_tqdm\n"
     ]
    }
   ],
   "source": [
    "from utils.algo import optimal_approx\n",
    "from utils.maths import *\n",
    "import numpy as np\n",
    "import pandas as pd"
   ]
  },
  {
   "cell_type": "markdown",
   "metadata": {},
   "source": [
    "### Function Definitions\n",
    "The next few cells will define the functions used in the experiment"
   ]
  },
  {
   "cell_type": "code",
   "execution_count": 3,
   "metadata": {},
   "outputs": [],
   "source": [
    "def square(x):\n",
    "    return x**2\n",
    "\n",
    "def triplet(x):\n",
    "    return x**3\n",
    "\n",
    "def exp(x):\n",
    "    return np.exp(x)"
   ]
  },
  {
   "cell_type": "code",
   "execution_count": 4,
   "metadata": {},
   "outputs": [],
   "source": [
    "n = [2, 3, 5, 10]\n",
    "step = 2e-5"
   ]
  },
  {
   "cell_type": "markdown",
   "metadata": {},
   "source": [
    "Below is the function to calculate the mean error."
   ]
  },
  {
   "cell_type": "code",
   "execution_count": 5,
   "metadata": {},
   "outputs": [],
   "source": [
    "def mean_err(errs):\n",
    "    return sum(errs) / len(errs)"
   ]
  },
  {
   "cell_type": "markdown",
   "metadata": {},
   "source": [
    "Also, the boundings of the error are defined along with the maximal gap between errors."
   ]
  },
  {
   "cell_type": "code",
   "execution_count": 6,
   "metadata": {},
   "outputs": [],
   "source": [
    "def bounds(n, f, a, b):\n",
    "    pass"
   ]
  },
  {
   "cell_type": "markdown",
   "metadata": {},
   "source": [
    "### Start approximating variables\n",
    "This step implements the algorithm to approximate the variables in the system of equations, as described in the paper."
   ]
  },
  {
   "cell_type": "code",
   "execution_count": 7,
   "metadata": {},
   "outputs": [
    {
     "name": "stdout",
     "output_type": "stream",
     "text": [
      "n = 2\n",
      "f(x) = x^2\n"
     ]
    },
    {
     "name": "stderr",
     "output_type": "stream",
     "text": [
      "Optimal Approximation: 100%|██████████| 1/1 [00:00<00:00, 21732.15it/s]\n"
     ]
    },
    {
     "name": "stdout",
     "output_type": "stream",
     "text": [
      "n = 3\n",
      "f(x) = x^2\n"
     ]
    },
    {
     "name": "stderr",
     "output_type": "stream",
     "text": [
      "Optimal Approximation: 100%|██████████| 2/2 [00:00<00:00, 10796.15it/s]\n"
     ]
    },
    {
     "name": "stdout",
     "output_type": "stream",
     "text": [
      "n = 5\n",
      "f(x) = x^2\n"
     ]
    },
    {
     "name": "stderr",
     "output_type": "stream",
     "text": [
      "Optimal Approximation: 100%|██████████| 4/4 [00:00<00:00, 8038.92it/s]\n"
     ]
    },
    {
     "name": "stdout",
     "output_type": "stream",
     "text": [
      "n = 10\n",
      "f(x) = x^2\n"
     ]
    },
    {
     "name": "stderr",
     "output_type": "stream",
     "text": [
      "Optimal Approximation: 100%|██████████| 9/9 [00:00<00:00, 13130.00it/s]\n"
     ]
    }
   ],
   "source": [
    "errs = []\n",
    "for i in n:\n",
    "    print(f\"n = {i}\")\n",
    "    print(f\"f(x) = x^2\")\n",
    "    a, b = -1, 1\n",
    "    alpha = (b-a)**2 / (16 * i**2)\n",
    "    res = optimal_approx(i, square, a, b, step)\n",
    "    errs.append({\n",
    "        \"function\": \"x^2\",\n",
    "        \"n\": i,\n",
    "        \"mean_err\": mean_err(res[1]),\n",
    "        \"upper_bound\": max_fx(get_derivative(get_derivative(square)), (a, b)) * alpha,\n",
    "        \"lower_bound\": min_fx(get_derivative(get_derivative(square)), (a, b)) * alpha\n",
    "    })\n",
    "    print('-'*50)"
   ]
  },
  {
   "cell_type": "code",
   "execution_count": 8,
   "metadata": {},
   "outputs": [
    {
     "data": {
      "text/plain": [
       "[{'function': 'x^2',\n",
       "  'n': 2,\n",
       "  'mean_err': 0.125,\n",
       "  'upper_bound': 0.12501111257279263,\n",
       "  'lower_bound': 0.12499896950846079},\n",
       " {'function': 'x^2',\n",
       "  'n': 3,\n",
       "  'mean_err': 0.05555555558888888,\n",
       "  'upper_bound': 0.05556049447679672,\n",
       "  'lower_bound': 0.055555097559315904},\n",
       " {'function': 'x^2',\n",
       "  'n': 5,\n",
       "  'mean_err': 0.020000000139999988,\n",
       "  'upper_bound': 0.02000177801164682,\n",
       "  'lower_bound': 0.019999835121353726},\n",
       " {'function': 'x^2',\n",
       "  'n': 10,\n",
       "  'mean_err': 0.005000000039999999,\n",
       "  'upper_bound': 0.005000444502911705,\n",
       "  'lower_bound': 0.0049999587803384316}]"
      ]
     },
     "execution_count": 8,
     "metadata": {},
     "output_type": "execute_result"
    }
   ],
   "source": [
    "errs"
   ]
  },
  {
   "cell_type": "code",
   "execution_count": null,
   "metadata": {},
   "outputs": [],
   "source": [
    "for i in n:\n",
    "    print(f\"n = {i}\")\n",
    "    print(f\"f(x) = x^3\")\n",
    "    a, b = 0, 1\n",
    "    alpha = (b-a)**2 / (16 * i**2)\n",
    "    res = optimal_approx(i, triplet, a, b, step)\n",
    "    errs.append({\n",
    "        \"function\": \"x^3\",\n",
    "        \"n\": i,\n",
    "        \"mean_err\": mean_err(res[1]),\n",
    "        \"upper_bound\": max_fx(get_derivative(get_derivative(triplet)), (a, b)) * alpha,\n",
    "        \"lower_bound\": min_fx(get_derivative(get_derivative(triplet)), (a, b)) * alpha\n",
    "    })\n",
    "    print('-'*50)"
   ]
  }
 ],
 "metadata": {
  "kernelspec": {
   "display_name": "nna",
   "language": "python",
   "name": "python3"
  },
  "language_info": {
   "codemirror_mode": {
    "name": "ipython",
    "version": 3
   },
   "file_extension": ".py",
   "mimetype": "text/x-python",
   "name": "python",
   "nbconvert_exporter": "python",
   "pygments_lexer": "ipython3",
   "version": "3.11.11"
  }
 },
 "nbformat": 4,
 "nbformat_minor": 2
}
