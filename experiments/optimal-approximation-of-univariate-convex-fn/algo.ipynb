{
 "cells": [
  {
   "cell_type": "markdown",
   "metadata": {},
   "source": [
    "### Change Directory\n",
    "This cell changes the working directory to the parent directory, preparing for imports from the local file structure."
   ]
  },
  {
   "cell_type": "code",
   "execution_count": 1,
   "metadata": {
    "vscode": {
     "languageId": "shellscript"
    }
   },
   "outputs": [],
   "source": [
    "cd ../.."
   ]
  },
  {
   "cell_type": "markdown",
   "metadata": {},
   "source": [
    "### Imports\n",
    "The necessary libraries are imported."
   ]
  },
  {
   "cell_type": "code",
   "execution_count": 2,
   "metadata": {},
   "outputs": [],
   "source": [
    "from utils.algo import optimal_approx\n",
    "from utils.maths import *\n",
    "import numpy as np\n",
    "import pandas as pd"
   ]
  },
  {
   "cell_type": "markdown",
   "metadata": {},
   "source": [
    "### Function Definitions\n",
    "The next few cells will define the functions used in the experiment"
   ]
  },
  {
   "cell_type": "code",
   "execution_count": 3,
   "metadata": {},
   "outputs": [],
   "source": [
    "def square(x):\n",
    "    return x**2\n",
    "\n",
    "def triplet(x):\n",
    "    return x**3\n",
    "\n",
    "def exp(x):\n",
    "    return np.exp(x)"
   ]
  },
  {
   "cell_type": "code",
   "execution_count": 4,
   "metadata": {},
   "outputs": [],
   "source": [
    "n = [2, 3, 5, 10]\n",
    "step = 2e-5"
   ]
  },
  {
   "cell_type": "markdown",
   "metadata": {},
   "source": [
    "Below is the function to calculate the mean error."
   ]
  },
  {
   "cell_type": "code",
   "execution_count": 5,
   "metadata": {},
   "outputs": [],
   "source": [
    "def mean_err(errs):\n",
    "    return sum(errs) / len(errs)"
   ]
  },
  {
   "cell_type": "markdown",
   "metadata": {},
   "source": [
    "Also, the boundings of the error are defined along with the maximal gap between errors."
   ]
  },
  {
   "cell_type": "code",
   "execution_count": 6,
   "metadata": {},
   "outputs": [],
   "source": [
    "def bounds(n, f, a, b):\n",
    "    pass"
   ]
  },
  {
   "cell_type": "markdown",
   "metadata": {},
   "source": [
    "### Start approximating variables\n",
    "This step implements the algorithm to approximate the variables in the system of equations, as described in the paper."
   ]
  },
  {
   "cell_type": "code",
   "execution_count": 7,
   "metadata": {},
   "outputs": [],
   "source": [
    "errs = []"
   ]
  },
  {
   "cell_type": "code",
   "execution_count": 8,
   "metadata": {},
   "outputs": [],
   "source": [
    "for i in n:\n",
    "    print(f\"n = {i}\")\n",
    "    print(f\"f(x) = exp(x)\")\n",
    "    a, b = 0, 1\n",
    "    alpha = (b-a)**2 / (16 * i**2)\n",
    "    res = optimal_approx(i, exp, a, b, step)\n",
    "    errs.append({\n",
    "        \"function\": \"exp(x)\",\n",
    "        \"n\": i,\n",
    "        \"mean_err\": mean_err(res[1]),\n",
    "        \"upper_bound\": max_fx(get_derivative(get_derivative(exp)), (a, b)) * alpha,\n",
    "        \"lower_bound\": min_fx(get_derivative(get_derivative(exp)), (a, b)) * alpha,\n",
    "        \"max_gap\": max(res[1]) - min(res[1]),\n",
    "        \"rounds\": res[2]\n",
    "    })\n",
    "    print('-'*50)"
   ]
  },
  {
   "cell_type": "code",
   "execution_count": 9,
   "metadata": {},
   "outputs": [],
   "source": [
    "for i in n:\n",
    "    print(f\"n = {i}\")\n",
    "    print(f\"f(x) = x^2\")\n",
    "    a, b = -1, 1\n",
    "    alpha = (b-a)**2 / (16 * i**2)\n",
    "    res = optimal_approx(i, square, a, b, step)\n",
    "    errs.append({\n",
    "        \"function\": \"x^2\",\n",
    "        \"n\": i,\n",
    "        \"mean_err\": mean_err(res[1]),\n",
    "        \"upper_bound\": max_fx(get_derivative(get_derivative(square)), (a, b)) * alpha,\n",
    "        \"lower_bound\": min_fx(get_derivative(get_derivative(square)), (a, b)) * alpha,\n",
    "        \"max_gap\": max(res[1]) - min(res[1]),\n",
    "        \"rounds\": res[2]\n",
    "    })\n",
    "    print('-'*50)"
   ]
  },
  {
   "cell_type": "code",
   "execution_count": 10,
   "metadata": {},
   "outputs": [],
   "source": [
    "for i in n:\n",
    "    print(f\"n = {i}\")\n",
    "    print(f\"f(x) = x^3\")\n",
    "    a, b = 0, 1\n",
    "    alpha = (b-a)**2 / (16 * i**2)\n",
    "    res = optimal_approx(i, triplet, a, b, step)\n",
    "    errs.append({\n",
    "        \"function\": \"x^3\",\n",
    "        \"n\": i,\n",
    "        \"mean_err\": mean_err(res[1]),\n",
    "        \"upper_bound\": max_fx(get_derivative(get_derivative(triplet)), (a, b)) * alpha,\n",
    "        \"lower_bound\": min_fx(get_derivative(get_derivative(triplet)), (a, b)) * alpha,\n",
    "        \"max_gap\": max(res[1]) - min(res[1]),\n",
    "        \"rounds\": res[2]\n",
    "    })\n",
    "    print('-'*50)"
   ]
  },
  {
   "cell_type": "markdown",
   "metadata": {},
   "source": [
    "### Results\n",
    "The results are displayed in the form of a table, showing values that are really close to published values in the paper."
   ]
  },
  {
   "cell_type": "code",
   "execution_count": 11,
   "metadata": {},
   "outputs": [],
   "source": [
    "df = pd.DataFrame(errs)\n",
    "df"
   ]
  },
  {
   "cell_type": "code",
   "execution_count": null,
   "metadata": {},
   "outputs": [],
   "source": []
  }
 ],
 "metadata": {
  "kernelspec": {
   "display_name": "nna",
   "language": "python",
   "name": "python3"
  },
  "language_info": {
   "codemirror_mode": {
    "name": "ipython",
    "version": 3
   },
   "file_extension": ".py",
   "mimetype": "text/x-python",
   "name": "python",
   "nbconvert_exporter": "python",
   "pygments_lexer": "ipython3",
   "version": "3.11.11"
  }
 },
 "nbformat": 4,
 "nbformat_minor": 2
}
